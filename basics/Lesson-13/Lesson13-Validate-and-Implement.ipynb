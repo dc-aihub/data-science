{
 "cells": [
  {
   "cell_type": "markdown",
   "metadata": {},
   "source": [
    "<img src=\"https://github.com/dc-aihub/dc-aihub.github.io/blob/master/img/ai-logo-transparent-banner.png?raw=true\" \n",
    "alt=\"Ai/Hub Logo\"/>\n",
    "\n",
    "<h1 style=\"text-align:center;color:#0B8261;\"><center>Data Science</center></h1>\n",
    "<h1 style=\"text-align:center;\"><center>Lesson 13</center></h1>\n",
    "<h1 style=\"text-align:center;\"><center>Validate &amp; Implement</center></h1>\n",
    "\n",
    "<hr />\n",
    "\n",
    "<center><a href=\"#Correlation-Heatmap\">Correlation Heat-Map</a></center>\n",
    "\n",
    "<hr />\n",
    "\n",
    "<center>***Original Tutorial:*** <br/>https://www.kaggle.com/ldfreeman3/a-data-science-framework-to-achieve-99-accuracy</center>"
   ]
  },
  {
   "cell_type": "markdown",
   "metadata": {},
   "source": [
    "<div style=\"background-color:#0B8261; width:100%; height:38px; color:white; font-size:18px; padding:10px;\">\n",
    "OVERVIEW\n",
    "</div>\n",
    "\n",
    "<center style=\"color:#0B8261;\">\n",
    "Now that we've gone ahead and tuned our model to the best of our ability, the next step is to prepare for submission using the validation data.\n",
    "</center>"
   ]
  },
  {
   "cell_type": "code",
   "execution_count": null,
   "metadata": {},
   "outputs": [],
   "source": [
    "# This is to get all the code from before in this notebook so you can continue without typing everything out again. \n",
    "# requirements.py should have been provided with this lesson.\n",
    "%run requirements.py\n",
    "%matplotlib inline\n",
    "mpl.style.use('ggplot')\n",
    "sns.set_style('white')\n",
    "pylab.rcParams['figure.figsize'] = 12,8"
   ]
  },
  {
   "cell_type": "markdown",
   "metadata": {},
   "source": [
    "<div style=\"background-color:#0B8261; width:100%; height:38px; color:white; font-size:18px; padding:10px;\" id=\"Correlation-Heatmap\">\n",
    "CORRELATION HEATMAP\n",
    "</div>"
   ]
  },
  {
   "cell_type": "code",
   "execution_count": null,
   "metadata": {},
   "outputs": [],
   "source": [
    "# compare algorithm predictions with each other, \n",
    "# where 1 = exactly similar and 0 = exactly opposite\n",
    "# there are some 1's, but enough blues and light reds \n",
    "# to create a \"super algorithm\" by combining them\n",
    "correlation_heatmap(MLA_predict)"
   ]
  },
  {
   "cell_type": "markdown",
   "metadata": {},
   "source": [
    "The above will tell us how our models compared to one another and how correlated they are (i.e., how similar one model is to the next).\n",
    "\n",
    "<br/>\n",
    "\n",
    "<div style=\"background-color:#0B8261; width:100%; height:38px; color:white; font-size:18px; padding:10px;\">\n",
    "SUMMARY\n",
    "</div>\n",
    "\n",
    "Using all the information provided within these lessons, you now possess the knowledge and know-how to implement your own Machine Learning algorithm to solve classification problems. In this bootcamp, we covered a Titanic classification problem, but feel free to work on your own type of problem. In the final lesson, we'll be wrapping this all up in another example."
   ]
  },
  {
   "cell_type": "code",
   "execution_count": null,
   "metadata": {},
   "outputs": [],
   "source": []
  }
 ],
 "metadata": {
  "kernelspec": {
   "display_name": "Python 3",
   "language": "python",
   "name": "python3"
  },
  "language_info": {
   "codemirror_mode": {
    "name": "ipython",
    "version": 3
   },
   "file_extension": ".py",
   "mimetype": "text/x-python",
   "name": "python",
   "nbconvert_exporter": "python",
   "pygments_lexer": "ipython3",
   "version": "3.6.4"
  }
 },
 "nbformat": 4,
 "nbformat_minor": 2
}
