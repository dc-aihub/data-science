{
 "cells": [
  {
   "cell_type": "markdown",
   "metadata": {},
   "source": [
    "<p style=\"text-align:right;\">This tutorial is taken from: https://www.kaggle.com/ldfreeman3/a-data-science-framework-to-achieve-99-accuracy</p>"
   ]
  },
  {
   "cell_type": "markdown",
   "metadata": {},
   "source": [
    "<img style=\"width:450px;\" src=\"https://durhamcollege.ca/wp-content/uploads/ai-hub-header.jpg\" alt=\"DC Logo\"/>\n",
    "\n",
    "<h1 style=\"text-align:center;\">Data Science 101</h1>"
   ]
  },
  {
   "cell_type": "markdown",
   "metadata": {},
   "source": [
    "# <span style=\"color: #16a085\">LESSON 2</span> - Define the Problem\n",
    "\n",
    "For this project, the problem statement is given to us on a golden plater, develop an algorithm to predict the survival outcome of passengers on the Titanic.\n",
    "\n",
    "......\n",
    "\n",
    "<img style=\"width:450px;\" src=\"http://www.oscars.org/sites/oscars/files/1083_dpk02718_04_t3d-4k-004.jpg\" alt=\"DC Logo\"/>\n",
    "\n",
    "<hr />\n",
    "\n",
    "**Project Summary**: The sinking of the RMS Titanic is one of the most infamous shipwrecks in history. On April 15, 1912, during her maiden voyage, the Titanic sank after colliding with an iceberg, killing 1502 out of 2224 passengers and crew. This sensational tragedy shocked the international community and led to better safety regulations for ships.\n",
    "\n",
    "One of the reasons that the shipwreck led to such loss of life was that there were not enough lifeboats for the passengers and crew. Although there was some element of luck involved in surviving the sinking, some groups of people were more likely to survive than others, such as women, children, and the upper-class.\n",
    "\n",
    "In this challenge, we ask you to complete the analysis of what sorts of people were likely to survive. In particular, we ask you to apply the tools of machine learning to predict which passengers survived the tragedy.\n",
    "\n",
    "Practice Skills\n",
    "\n",
    "- Binary classification\n",
    "- Python skills"
   ]
  },
  {
   "cell_type": "markdown",
   "metadata": {},
   "source": [
    "## <span style=\"color: #3498db\">Thought →</span>\n",
    "\n",
    "- If you were a Data Scientist working on a project to develop some AI algorithm for a company, how would you approach coming up with a Project Summary for them? In this situation, you're given the problem, but you're encouraged to think about how you'd approach the problem when not provided.\n",
    "\n",
    "<hr />\n",
    "\n",
    "## <p style=\"color: #e74c3c; text-align: center\">Challenge →</p>\n",
    "\n",
    "Come up with a few problems for the examples below which can make the companies more efficient using the data they are already collecting.\n",
    "\n",
    "- health data tracking company (fitbit collects a lot of data about heart rate, location, etc...)\n",
    "- GPS data (GPS company collects a lot of location data)\n",
    "- Parking data (Parking company collects a lot of data pertaining to cars parked in their parking lots and at what times during the day)"
   ]
  },
  {
   "cell_type": "markdown",
   "metadata": {},
   "source": [
    "*Double click here to enter your answers*\n",
    "\n",
    "1. \n",
    "2. \n",
    "3. "
   ]
  },
  {
   "cell_type": "code",
   "execution_count": null,
   "metadata": {
    "collapsed": true
   },
   "outputs": [],
   "source": []
  }
 ],
 "metadata": {
  "kernelspec": {
   "display_name": "Python 3",
   "language": "python",
   "name": "python3"
  },
  "language_info": {
   "codemirror_mode": {
    "name": "ipython",
    "version": 3
   },
   "file_extension": ".py",
   "mimetype": "text/x-python",
   "name": "python",
   "nbconvert_exporter": "python",
   "pygments_lexer": "ipython3",
   "version": "3.6.3"
  }
 },
 "nbformat": 4,
 "nbformat_minor": 2
}
