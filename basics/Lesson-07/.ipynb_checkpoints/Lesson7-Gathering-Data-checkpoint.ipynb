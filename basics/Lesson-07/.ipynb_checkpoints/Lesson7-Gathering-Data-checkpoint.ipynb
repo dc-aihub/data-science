{
 "cells": [
  {
   "cell_type": "markdown",
   "metadata": {},
   "source": [
    "<img src=\"https://github.com/dc-aihub/dc-aihub.github.io/blob/master/img/ai-logo-transparent-banner.png?raw=true\" \n",
    "alt=\"Ai/Hub Logo\"/>\n",
    "\n",
    "<h1 style=\"text-align:center;color:#0B8261;\"><center>Data Science</center></h1>\n",
    "<h1 style=\"text-align:center;\"><center>Lesson 7</center></h1>\n",
    "<h1 style=\"text-align:center;\"><center>Gathering Data</center></h1>\n",
    "\n",
    "<center>***Original Tutorial:*** <br/>https://www.kaggle.com/ldfreeman3/a-data-science-framework-to-achieve-99-accuracy</center>"
   ]
  },
  {
   "cell_type": "markdown",
   "metadata": {},
   "source": [
    "<div style=\"background-color:#0B8261; width:100%; height:38px; color:white; font-size:18px; padding:10px;\">\n",
    "OVERVIEW\n",
    "</div>\n",
    "\n",
    "<center style=\"color:#0B8261;\">\n",
    "Your analysis and summary are only as good as the data you've collected. In order to tackle any problem you have at hand, you'll be required to gather data from whatever sources it may come from.\n",
    "<br/><br/>\n",
    "In many situations, if you're working for a company, they will provide you the data. In a lot of these cases, the data is raw and dirty - as a data scientist, you'll learn how to filter this data, clean it up, and make sure it's usable for your models. \n",
    "<br/><br/>\n",
    "Think of it like this, if you were a competitive athlete, you wouldn't feed your body fast food - rather you'd ensure you were eating clean, nutritious meals. The same goes for our models in the future, we want to make sure we give it only the best data. Feeding it dirty data can be detrimental to our desired result.\n",
    "</center>\n",
    "\n",
    "<hr />\n",
    "\n",
    "<div style=\"background-color:#D33222; margin-left:10%; width:90%; height:38px; color:white; font-size:18px; padding:10px; float:right;\">\n",
    "NOTE\n",
    "</div>\n",
    ">- For this exercise, you will be provided with the dataset, which you can find in the same directory as the notebook you are currently in.\n",
    "><br/>\n",
    ">- There are 2 files. The 'titanic_train.csv' file is the one we'll use to train our model (feeding our athlete good food) and the 'titanic_test.csv' is the file we'll use to test our model (observing how our athlete performs)."
   ]
  },
  {
   "cell_type": "code",
   "execution_count": null,
   "metadata": {},
   "outputs": [],
   "source": [
    "import pandas as pd\n",
    "\n",
    "data = pd.read_csv(\"./titanic_train.csv\")\n",
    "data.head()"
   ]
  },
  {
   "cell_type": "markdown",
   "metadata": {},
   "source": [
    "<span style=\"color: green\">*Observe the output of the training data above.\n",
    "<br/>\n",
    "This is a sample of what the data looks like. We will be using some of these attributes to predict if a novel passenger would have survived given the circumstances of the titanic ever being replicated.*</span>"
   ]
  },
  {
   "cell_type": "code",
   "execution_count": null,
   "metadata": {},
   "outputs": [],
   "source": []
  }
 ],
 "metadata": {
  "kernelspec": {
   "display_name": "Python 3",
   "language": "python",
   "name": "python3"
  },
  "language_info": {
   "codemirror_mode": {
    "name": "ipython",
    "version": 3
   },
   "file_extension": ".py",
   "mimetype": "text/x-python",
   "name": "python",
   "nbconvert_exporter": "python",
   "pygments_lexer": "ipython3",
   "version": "3.6.4"
  }
 },
 "nbformat": 4,
 "nbformat_minor": 2
}
